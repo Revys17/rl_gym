{
 "cells": [
  {
   "cell_type": "markdown",
   "id": "37fa5fe8-5f17-4e1b-afb8-accdf695c8f0",
   "metadata": {},
   "source": [
    "# MLP For Name generation"
   ]
  },
  {
   "cell_type": "code",
   "execution_count": null,
   "id": "7b94a34e-c4dc-4e49-b082-12fe5cb8ee27",
   "metadata": {},
   "outputs": [],
   "source": [
    "with open('names.txt', 'r') as file:\n",
    "    dataset = file.read().split('\\n')"
   ]
  },
  {
   "cell_type": "code",
   "execution_count": null,
   "id": "112c6bab-9fc4-4dff-9c44-b77004a80196",
   "metadata": {},
   "outputs": [
    {
     "data": {
      "text/plain": [
       "['emma', 'olivia', 'ava', 'isabella', 'sophia']"
      ]
     },
     "execution_count": null,
     "metadata": {},
     "output_type": "execute_result"
    }
   ],
   "source": [
    "dataset[:5]"
   ]
  },
  {
   "cell_type": "code",
   "execution_count": null,
   "id": "fa837495-5e05-41ac-bcca-e0387ce34edf",
   "metadata": {},
   "outputs": [],
   "source": [
    "# Tokenizer\n",
    "chars = sorted(list(set(''.join(dataset))))\n",
    "stoi = {ch: i+1 for i, ch in enumerate(chars)}\n",
    "stoi['.'] = 0\n",
    "itos = {i:ch for ch,i in stoi.items()}"
   ]
  },
  {
   "cell_type": "code",
   "execution_count": null,
   "id": "7a275d90-782d-4a70-a21b-f08b33d29736",
   "metadata": {},
   "outputs": [
    {
     "data": {
      "text/plain": [
       "device(type='cuda')"
      ]
     },
     "execution_count": null,
     "metadata": {},
     "output_type": "execute_result"
    }
   ],
   "source": [
    "import torch\n",
    "import torch.nn.functional as F\n",
    "import matplotlib.pyplot as plt # for making figures\n",
    "%matplotlib inline\n",
    "device = torch.device(\"cuda\" if torch.cuda.is_available() else \"cpu\")\n",
    "device"
   ]
  },
  {
   "cell_type": "code",
   "execution_count": null,
   "id": "2601ebee-aa95-44dc-abb8-afa0b90be591",
   "metadata": {},
   "outputs": [],
   "source": [
    "# Hyperparameters\n",
    "train_split, val_split = 0.8, 0.1 # Test is remainder\n",
    "context_width = 3\n",
    "vocab_size = len(chars) + 1\n",
    "embed_dim = 16\n",
    "layer_one_size = 300\n",
    "batch_size = 256\n",
    "learning_rate = 0.1\n",
    "num_iters = 200000"
   ]
  },
  {
   "cell_type": "code",
   "execution_count": null,
   "id": "58599044-f319-47ce-8b38-c1bcd2d723fa",
   "metadata": {},
   "outputs": [],
   "source": [
    "# Our model takes inputs of context_width tokens at a time, so convert our input dataset into the expected form\n",
    "def build_dataset(words):\n",
    "    n_grams = []\n",
    "    labels = []\n",
    "    for name in words:\n",
    "        name = ('.' * context_width) + name + ('.')\n",
    "        for i in range(context_width, len(name)):\n",
    "            n_grams.append([stoi[ch] for ch in name[i-context_width:i]])\n",
    "            labels.append(stoi[name[i]])\n",
    "\n",
    "    n_grams = torch.tensor(n_grams).to(device)\n",
    "    labels = torch.tensor(labels).to(device)\n",
    "    print(n_grams.shape, labels.shape)\n",
    "    return (n_grams, labels)"
   ]
  },
  {
   "cell_type": "code",
   "execution_count": null,
   "id": "4819cdfb-ad84-42ca-a58c-dbc2f35160d0",
   "metadata": {},
   "outputs": [
    {
     "name": "stdout",
     "output_type": "stream",
     "text": [
      "torch.Size([182484, 3]) torch.Size([182484])\n",
      "torch.Size([22869, 3]) torch.Size([22869])\n",
      "torch.Size([22793, 3]) torch.Size([22793])\n"
     ]
    }
   ],
   "source": [
    "# Create the train, val, and test split\n",
    "split_1_index = int(train_split*len(dataset))\n",
    "split_2_index = int((train_split+val_split)*len(dataset))\n",
    "\n",
    "import random\n",
    "random.seed(42)\n",
    "random.shuffle(dataset)\n",
    "train_dataset, train_labels = build_dataset(dataset[:split_1_index])\n",
    "val_dataset, val_labels = build_dataset(dataset[split_1_index:split_2_index])\n",
    "test_dataset, test_labels = build_dataset(dataset[split_2_index:])\n"
   ]
  },
  {
   "cell_type": "code",
   "execution_count": null,
   "id": "d11c674c-a4b7-4160-b31c-89f99768e520",
   "metadata": {},
   "outputs": [],
   "source": [
    "# Create the embedding table\n",
    "g = torch.Generator('cuda').manual_seed(2147483647)\n",
    "embedding = torch.randn((vocab_size, embed_dim), generator=g, device=device)\n",
    "\n",
    "# Create layer 1\n",
    "W1 = torch.randn((embed_dim*context_width, layer_one_size), generator=g, device=device)\n",
    "B1 = torch.randn(layer_one_size, generator=g, device=device)\n",
    "\n",
    "# Create layer 2\n",
    "W2 = torch.randn((layer_one_size, vocab_size), generator=g, device=device)\n",
    "B2 = torch.randn(vocab_size, generator=g, device=device)\n",
    "\n",
    "parameters = [embedding, W1, B1, W2, B2]\n",
    "for p in parameters:\n",
    "    p.requires_grad = True"
   ]
  },
  {
   "cell_type": "code",
   "execution_count": null,
   "id": "de035263-1285-4e21-b51e-3e622f229bd9",
   "metadata": {},
   "outputs": [
    {
     "data": {
      "text/plain": [
       "(torch.Size([27, 16]),\n",
       " torch.Size([48, 600]),\n",
       " torch.Size([600]),\n",
       " torch.Size([600, 27]),\n",
       " torch.Size([27]))"
      ]
     },
     "execution_count": null,
     "metadata": {},
     "output_type": "execute_result"
    }
   ],
   "source": [
    "sum(p.nelement() for p in parameters) # number of parameters in total\n",
    "embedding.shape, W1.shape, B1.shape, W2.shape, B2.shape"
   ]
  },
  {
   "cell_type": "code",
   "execution_count": null,
   "id": "aa7d16f0-6589-4782-9c6f-7b07871cd5a7",
   "metadata": {},
   "outputs": [],
   "source": [
    "def forward_pass(dataset, labels, all=False):\n",
    "    # get batch\n",
    "    if all:\n",
    "        embeddings = embedding[dataset]\n",
    "    else:\n",
    "        indices = torch.randint(0, dataset.shape[0], (batch_size,)).to(device)\n",
    "        embeddings = embedding[dataset[indices]]\n",
    "\n",
    "    #print(embeddings.shape)\n",
    "    h = torch.tanh(embeddings.view(embeddings.shape[0], embeddings.shape[1]*embeddings.shape[2]) @ W1 + B1)\n",
    "    #print(h.shape)\n",
    "    logits = h @ W2 + B2\n",
    "    #print(logits.shape)\n",
    "\n",
    "    if all:\n",
    "        loss = F.cross_entropy(logits, labels)\n",
    "    else:\n",
    "        loss = F.cross_entropy(logits, labels[indices])\n",
    "\n",
    "    return loss\n",
    "\n",
    "def get_loss(all=False):\n",
    "    return forward_pass(train_dataset, train_labels, all=all)\n",
    "\n",
    "def get_val_loss(all=False):\n",
    "    with torch.no_grad():\n",
    "        return forward_pass(val_dataset, val_labels, all=all)"
   ]
  },
  {
   "cell_type": "code",
   "execution_count": null,
   "id": "8331c4a9-77a3-4e0b-a269-45fbb9381814",
   "metadata": {},
   "outputs": [
    {
     "data": {
      "text/plain": [
       "(torch.Size([22860, 3]), torch.Size([22860]))"
      ]
     },
     "execution_count": null,
     "metadata": {},
     "output_type": "execute_result"
    }
   ],
   "source": [
    "val_dataset.shape, val_labels.shape"
   ]
  },
  {
   "cell_type": "code",
   "execution_count": null,
   "id": "04ca6057-dc56-4674-bef0-93c47a7e92a7",
   "metadata": {},
   "outputs": [],
   "source": [
    "# Define the forward pass\n",
    "lossi = []\n",
    "stepi = []\n",
    "\n",
    "def train(num_epochs, lr):\n",
    "    print_step = 0.1*num_epochs\n",
    "    lr_step = 0.3*num_epochs\n",
    "    \n",
    "    for i in range(num_epochs):\n",
    "        loss = get_loss()\n",
    "        \n",
    "        for p in parameters:\n",
    "            p.grad = None\n",
    "        loss.backward()\n",
    "\n",
    "        if i % lr_step == 0:\n",
    "            lr *= 0.1\n",
    "        for p in parameters:\n",
    "            p.data += -lr * p.grad\n",
    "\n",
    "        if i % print_step == 0:\n",
    "            print(f\"train loss: {loss.item():.4f}\")\n",
    "            print(f\"val loss: {get_val_loss().item():.4f}\")\n",
    "            print(f\"{lr=:.4f}\")\n",
    "\n",
    "        stepi.append(i)\n",
    "        lossi.append(loss.log10().item())\n",
    "\n",
    "    with torch.no_grad():\n",
    "        print(f\"final train loss: {get_loss(all=True):.4f}, val loss: {get_val_loss(all=True):.4f}\")"
   ]
  },
  {
   "cell_type": "code",
   "execution_count": null,
   "id": "9a164372-d0a9-4e83-9dba-bd7b6f575d92",
   "metadata": {},
   "outputs": [
    {
     "name": "stdout",
     "output_type": "stream",
     "text": [
      "train loss: 33.3730\n",
      "val loss: 32.3925\n",
      "lr=0.1000\n",
      "train loss: 2.0189\n",
      "val loss: 2.1291\n",
      "lr=0.1000\n",
      "train loss: 1.9630\n",
      "val loss: 2.3538\n",
      "lr=0.1000\n",
      "train loss: 1.9508\n",
      "val loss: 2.2614\n",
      "lr=0.0100\n",
      "train loss: 2.0549\n",
      "val loss: 2.2909\n",
      "lr=0.0100\n",
      "train loss: 2.0795\n",
      "val loss: 2.2569\n",
      "lr=0.0100\n",
      "train loss: 2.0928\n",
      "val loss: 2.1929\n",
      "lr=0.0010\n",
      "train loss: 2.1167\n",
      "val loss: 2.1658\n",
      "lr=0.0010\n",
      "train loss: 2.2262\n",
      "val loss: 2.1605\n",
      "lr=0.0010\n",
      "train loss: 2.0695\n",
      "val loss: 2.0890\n",
      "lr=0.0001\n",
      "final train loss: 2.0569, val loss: 2.1660\n"
     ]
    }
   ],
   "source": [
    "train(num_iters, 1)"
   ]
  },
  {
   "cell_type": "code",
   "execution_count": null,
   "id": "bbd6fda5-d96b-4c43-a9c9-efe8789cff51",
   "metadata": {},
   "outputs": [
    {
     "data": {
      "text/plain": [
       "tensor(2.2737, device='cuda:0')"
      ]
     },
     "execution_count": null,
     "metadata": {},
     "output_type": "execute_result"
    }
   ],
   "source": [
    "get_val_loss(all=True)"
   ]
  },
  {
   "cell_type": "code",
   "execution_count": null,
   "id": "51fd0894-aeaf-4735-9a33-04f4d8fad1e3",
   "metadata": {},
   "outputs": [],
   "source": []
  },
  {
   "cell_type": "code",
   "execution_count": null,
   "id": "953ee1d6-5d56-4c9c-8769-ad2a2b34bc31",
   "metadata": {},
   "outputs": [
    {
     "data": {
      "text/plain": [
       "[<matplotlib.lines.Line2D>]"
      ]
     },
     "execution_count": null,
     "metadata": {},
     "output_type": "execute_result"
    },
    {
     "data": {
      "image/png": "[encoded data removed]",
      "text/plain": [
       "<Figure size 640x480 with 1 Axes>"
      ]
     },
     "metadata": {},
     "output_type": "display_data"
    }
   ],
   "source": [
    "plt.plot(stepi, lossi)"
   ]
  },
  {
   "cell_type": "code",
   "execution_count": null,
   "id": "34d2909c-9a95-45a3-9fdd-ee3fcfebd36a",
   "metadata": {},
   "outputs": [
    {
     "data": {
      "image/png": "[encoded data removed]",
      "text/plain": [
       "<Figure size 800x800 with 1 Axes>"
      ]
     },
     "metadata": {},
     "output_type": "display_data"
    }
   ],
   "source": [
    "# visualize dimensions 0 and 1 of the embedding matrix C for all characters\n",
    "plt.figure(figsize=(8,8))\n",
    "plt.scatter(embedding[:,0].data, embedding[:,1].data, s=200)\n",
    "for i in range(embedding.shape[0]):\n",
    "    plt.text(embedding[i,0].item(), embedding[i,1].item(), itos[i], ha=\"center\", va=\"center\", color='white')\n",
    "plt.grid('minor')"
   ]
  },
  {
   "cell_type": "code",
   "execution_count": null,
   "id": "a6fb764b-9001-4e03-91f2-28da5b91c79d",
   "metadata": {},
   "outputs": [
    {
     "name": "stdout",
     "output_type": "stream",
     "text": [
      "janella.\n",
      "misee.\n",
      "oluwa.\n",
      "makalyann.\n",
      "kaela.\n",
      "makariela.\n",
      "emprend.\n",
      "abell.\n",
      "aileyza.\n",
      "nika.\n",
      "kadis.\n",
      "merecia.\n",
      "alara.\n",
      "aubita.\n",
      "des.\n",
      "daria.\n",
      "celen.\n",
      "ahmir.\n",
      "gameshaniking.\n",
      "lakemor.\n"
     ]
    }
   ],
   "source": [
    "g2 = torch.Generator('cuda').manual_seed(69)\n",
    "\n",
    "for _ in range(20):\n",
    "    out = []\n",
    "    context = [0] * context_width\n",
    "    while True:\n",
    "        embeddings = embedding[torch.tensor([context])]\n",
    "        h = torch.tanh(embeddings.view(1, -1) @ W1 + B1)\n",
    "        logits = h @ W2 + B2\n",
    "        probs = F.softmax(logits, dim=1)\n",
    "        ix = torch.multinomial(probs, num_samples=1, replacement=True, generator=g2).item()\n",
    "        context = context[1:] + [ix]\n",
    "        out.append(ix)\n",
    "        if ix == 0:\n",
    "            break\n",
    "\n",
    "    print(''.join(itos[i] for i in out))"
   ]
  },
  {
   "cell_type": "code",
   "execution_count": null,
   "id": "ff2c153f-0dec-42e2-9368-d67d981bcf67",
   "metadata": {},
   "outputs": [],
   "source": []
  }
 ],
 "metadata": {
  "kernelspec": {
   "display_name": "python3",
   "language": "python",
   "name": "python3"
  }
 },
 "nbformat": 4,
 "nbformat_minor": 5
}
